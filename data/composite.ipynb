{
 "cells": [
  {
   "cell_type": "markdown",
   "metadata": {},
   "source": [
    "# Estimation of MODIS-like Surface-Spectral Reflectance from Geostationary Satellites using Deep Neural Networks "
   ]
  },
  {
   "cell_type": "markdown",
   "metadata": {},
   "source": [
    "## Setup"
   ]
  },
  {
   "cell_type": "code",
   "execution_count": 1,
   "metadata": {
    "collapsed": true
   },
   "outputs": [],
   "source": [
    "%matplotlib inline\n",
    "# MCD43B3, MOD09A1\n",
    "import argparse\n",
    "import datetime\n",
    "import glob\n",
    "import os\n",
    "\n",
    "import gdal\n",
    "import numpy as np\n",
    "from IPython.display import Image\n",
    "import matplotlib.pyplot as plt"
   ]
  },
  {
   "cell_type": "code",
   "execution_count": 2,
   "metadata": {
    "collapsed": true
   },
   "outputs": [],
   "source": [
    "originX = 85  # starting longitude\n",
    "originY = -60  # starting latitude\n",
    "pixelWidth = 0.01\n",
    "pixelHeight = 0.01\n",
    "mem_driver = gdal.GetDriverByName('MEM') # for in-memory warping\n",
    "raw_dir = \"modis\""
   ]
  },
  {
   "cell_type": "code",
   "execution_count": 3,
   "metadata": {},
   "outputs": [
    {
     "data": {
      "text/plain": [
       "['modis/MOD13Q1.A2016225.h23v11.005.2016243094838.hdf',\n",
       " 'modis/MOD13Q1.A2016225.h31v06.005.2016243093313.hdf',\n",
       " 'modis/MOD13Q1.A2016225.h32v09.005.2016243095547.hdf',\n",
       " 'modis/MOD13Q1.A2016225.h26v03.005.2016243101730.hdf',\n",
       " 'modis/MOD13Q1.A2016225.h25v05.005.2016243103211.hdf']"
      ]
     },
     "execution_count": 3,
     "metadata": {},
     "output_type": "execute_result"
    }
   ],
   "source": [
    "layers = [\"250m 16 days composite day of the year\", # doy 1st for compositing reasons\n",
    "          \"250m 16 days NDVI\", \n",
    "          \"250m 16 days NIR reflectance\"] \n",
    "raw_files = glob.glob(raw_dir + '/*.hdf')\n",
    "raw_files[:5]"
   ]
  },
  {
   "cell_type": "code",
   "execution_count": 4,
   "metadata": {},
   "outputs": [
    {
     "data": {
      "text/plain": [
       "('modis/MOD13Q1.A2016225.h26v03.005.2016243101730.hdf', 225)"
      ]
     },
     "execution_count": 4,
     "metadata": {},
     "output_type": "execute_result"
    }
   ],
   "source": [
    "filepath = raw_files[3] # set day here\n",
    "day_of_year = 225 # int(filepath.split('.')[4][4:7])\n",
    "filepath, day_of_year"
   ]
  },
  {
   "cell_type": "code",
   "execution_count": 5,
   "metadata": {},
   "outputs": [
    {
     "data": {
      "text/plain": [
       "[('HDF4_EOS:EOS_GRID:\"modis/MOD13Q1.A2016225.h26v03.005.2016243101730.hdf\":MODIS_Grid_16DAY_250m_500m_VI:250m 16 days NDVI',\n",
       "  '[4800x4800] 250m 16 days NDVI MODIS_Grid_16DAY_250m_500m_VI (16-bit integer)'),\n",
       " ('HDF4_EOS:EOS_GRID:\"modis/MOD13Q1.A2016225.h26v03.005.2016243101730.hdf\":MODIS_Grid_16DAY_250m_500m_VI:250m 16 days EVI',\n",
       "  '[4800x4800] 250m 16 days EVI MODIS_Grid_16DAY_250m_500m_VI (16-bit integer)')]"
      ]
     },
     "execution_count": 5,
     "metadata": {},
     "output_type": "execute_result"
    }
   ],
   "source": [
    "ds = gdal.Open(filepath, gdal.GA_ReadOnly)\n",
    "datasets = ds.GetSubDatasets()\n",
    "datasets[:2]"
   ]
  },
  {
   "cell_type": "markdown",
   "metadata": {},
   "source": [
    "## Day of Year"
   ]
  },
  {
   "cell_type": "code",
   "execution_count": 6,
   "metadata": {},
   "outputs": [
    {
     "data": {
      "text/plain": [
       "('HDF4_EOS:EOS_GRID:\"modis/MOD13Q1.A2016225.h26v03.005.2016243101730.hdf\":MODIS_Grid_16DAY_250m_500m_VI:250m 16 days composite day of the year',\n",
       " 'composite')"
      ]
     },
     "execution_count": 6,
     "metadata": {},
     "output_type": "execute_result"
    }
   ],
   "source": [
    "doy_layer = \"\"\n",
    "for dataset in datasets:\n",
    "    if layers[0] in dataset[0]:\n",
    "        doy_layer = dataset[0]\n",
    "file_type = doy_layer.split(' ')[3].lower()\n",
    "doy_layer, file_type"
   ]
  },
  {
   "cell_type": "code",
   "execution_count": 7,
   "metadata": {},
   "outputs": [
    {
     "data": {
      "text/plain": [
       "array([[ -1,  -1,  -1, ...,  -1,  -1,  -1],\n",
       "       [ -1,  -1,  -1, ...,  -1,  -1,  -1],\n",
       "       [ -1,  -1,  -1, ...,  -1,  -1,  -1],\n",
       "       ..., \n",
       "       [240, 229, 240, ..., 233, 233, 233],\n",
       "       [240, 240, 240, ..., 233, 233, 233],\n",
       "       [230, 240, 240, ..., 233, 233, 233]], dtype=int16)"
      ]
     },
     "execution_count": 7,
     "metadata": {},
     "output_type": "execute_result"
    }
   ],
   "source": [
    "doy_modis = gdal.Open(doy_layer)\n",
    "doy_modis.ReadAsArray()"
   ]
  },
  {
   "cell_type": "code",
   "execution_count": 8,
   "metadata": {},
   "outputs": [
    {
     "data": {
      "text/plain": [
       "<matplotlib.colorbar.Colorbar at 0x7f928154ef90>"
      ]
     },
     "execution_count": 8,
     "metadata": {},
     "output_type": "execute_result"
    },
    {
     "data": {
      "image/png": "[encoded data removed]",
      "text/plain": [
       "<matplotlib.figure.Figure at 0x7f9298495ed0>"
      ]
     },
     "metadata": {},
     "output_type": "display_data"
    }
   ],
   "source": [
    "output = filepath.replace('.hdf', file_type + \"-test.tif\")\n",
    "gdal.Warp(output, doy_modis, dstSRS='EPSG:3857')\n",
    "data = gdal.Open(output)\n",
    "doy_arr = data.ReadAsArray()\n",
    "plt.imshow(doy_arr)\n",
    "plt.clim(day_of_year, day_of_year + 16)\n",
    "plt.colorbar()"
   ]
  },
  {
   "cell_type": "markdown",
   "metadata": {},
   "source": [
    "## Near Infrared"
   ]
  },
  {
   "cell_type": "code",
   "execution_count": 9,
   "metadata": {},
   "outputs": [
    {
     "data": {
      "text/plain": [
       "('HDF4_EOS:EOS_GRID:\"modis/MOD13Q1.A2016225.h26v03.005.2016243101730.hdf\":MODIS_Grid_16DAY_250m_500m_VI:250m 16 days NIR reflectance',\n",
       " 'nir')"
      ]
     },
     "execution_count": 9,
     "metadata": {},
     "output_type": "execute_result"
    }
   ],
   "source": [
    "nir_layer = \"\"\n",
    "for dataset in datasets:\n",
    "    if layers[2] in dataset[0]:\n",
    "        nir_layer = dataset[0]\n",
    "        \n",
    "file_type = nir_layer.split(' ')[3].lower()\n",
    "nir_layer, file_type"
   ]
  },
  {
   "cell_type": "code",
   "execution_count": 10,
   "metadata": {},
   "outputs": [
    {
     "data": {
      "text/plain": [
       "array([[-1000, -1000, -1000, ..., -1000, -1000, -1000],\n",
       "       [-1000, -1000, -1000, ..., -1000, -1000, -1000],\n",
       "       [-1000, -1000, -1000, ..., -1000, -1000, -1000],\n",
       "       ..., \n",
       "       [ 3105,  3182,  2881, ...,  5085,  4777,  4777],\n",
       "       [ 2767,  2835,  2888, ...,  4129,  4129,  4240],\n",
       "       [ 3903,  2974,  2825, ...,  3508,  3508,  3750]], dtype=int16)"
      ]
     },
     "execution_count": 10,
     "metadata": {},
     "output_type": "execute_result"
    }
   ],
   "source": [
    "nir_modis = gdal.Open(nir_layer)\n",
    "nir_modis.ReadAsArray()"
   ]
  },
  {
   "cell_type": "code",
   "execution_count": 11,
   "metadata": {},
   "outputs": [
    {
     "data": {
      "text/plain": [
       "<matplotlib.colorbar.Colorbar at 0x7f926f557790>"
      ]
     },
     "execution_count": 11,
     "metadata": {},
     "output_type": "execute_result"
    },
    {
     "data": {
      "image/png": "[encoded data removed]",
      "text/plain": [
       "<matplotlib.figure.Figure at 0x7f92d45a8bd0>"
      ]
     },
     "metadata": {},
     "output_type": "display_data"
    }
   ],
   "source": [
    "output = filepath.replace('.hdf', file_type + \"-test.tif\")\n",
    "gdal.Warp(output, nir_modis, dstSRS='EPSG:3857')\n",
    "data = gdal.Open(output)\n",
    "nir_arr = data.ReadAsArray()\n",
    "plt.imshow(nir_arr)\n",
    "plt.clim(0,4000)\n",
    "plt.colorbar()"
   ]
  },
  {
   "cell_type": "code",
   "execution_count": 13,
   "metadata": {},
   "outputs": [
    {
     "data": {
      "text/plain": [
       "'2016-08-12 10:20'"
      ]
     },
     "execution_count": 13,
     "metadata": {},
     "output_type": "execute_result"
    }
   ],
   "source": [
    "doy = int(filepath.split('.')[1][5:])\n",
    "year = int(filepath.split('.')[4][0:4])\n",
    "date = datetime.datetime(year, 1, 1) + datetime.timedelta(doy - 1)\n",
    "\n",
    "# Find closest himawari times\n",
    "modis_time = filepath.split('.')[4][7:]\n",
    "_time = datetime.datetime.strptime(modis_time, \"%H%M%S\")\n",
    "if _time.minute % 10 >= 5:\n",
    "    _time += datetime.timedelta(minutes=10 - _time.minute % 10)\n",
    "else:\n",
    "    _time += datetime.timedelta(minutes=-_time.minute % 10)\n",
    "timendate = datetime.datetime.combine(date.date(), _time.time())\n",
    "timendate.strftime('%Y-%m-%d %H:%M')"
   ]
  },
  {
   "cell_type": "code",
   "execution_count": 14,
   "metadata": {
    "scrolled": true
   },
   "outputs": [
    {
     "data": {
      "text/plain": [
       "(['201608121020.*.dat', '201608131020.*.dat', '201608141020.*.dat'],\n",
       " [False,\n",
       "  False,\n",
       "  False,\n",
       "  False,\n",
       "  False,\n",
       "  False,\n",
       "  False,\n",
       "  False,\n",
       "  False,\n",
       "  False,\n",
       "  False,\n",
       "  False,\n",
       "  False,\n",
       "  False,\n",
       "  False,\n",
       "  False])"
      ]
     },
     "execution_count": 14,
     "metadata": {},
     "output_type": "execute_result"
    }
   ],
   "source": [
    "himawari_raw_files = [(timendate + datetime.timedelta(days=i)).strftime(\"%Y%m%d%H%M.*.dat\".format(file_type)) \n",
    "                           for i in range(16)] # raw files\n",
    "himawari_files = ['processed/' + (timendate + datetime.timedelta(days=i)).strftime(\"%Y%m%d%H%M.{}.tif\".format(file_type))\n",
    "                            for i in range(16)] # processed files\n",
    "himawari_raw_files[:3], [os.path.isfile(f) for f in himawari_raw_files]\n"
   ]
  },
  {
   "cell_type": "code",
   "execution_count": 16,
   "metadata": {},
   "outputs": [
    {
     "name": "stdout",
     "output_type": "stream",
     "text": [
      "201608121020.*.dat\n",
      "201608131020.*.dat\n",
      "201608141020.*.dat\n",
      "201608151020.*.dat\n",
      "201608161020.*.dat\n",
      "201608171020.*.dat\n",
      "201608181020.*.dat\n",
      "201608191020.*.dat\n",
      "201608201020.*.dat\n",
      "201608211020.*.dat\n",
      "201608221020.*.dat\n",
      "201608231020.*.dat\n",
      "201608241020.*.dat\n",
      "201608251020.*.dat\n",
      "201608261020.*.dat\n",
      "201608271020.*.dat\n"
     ]
    }
   ],
   "source": [
    "file_exists = [os.path.isfile(f) for f in himawari_raw_files]\n",
    "for exists, h in zip(file_exists, himawari_raw_files):\n",
    "    if not exists:\n",
    "        os.system('aws s3 sync s3://himawari-nex/radiance/ data/himawari/ --exclude \"*\" --include \"{}\"'.format(h))\n",
    "        print h"
   ]
  },
  {
   "cell_type": "code",
   "execution_count": 24,
   "metadata": {},
   "outputs": [
    {
     "data": {
      "text/plain": [
       "True"
      ]
     },
     "execution_count": 24,
     "metadata": {},
     "output_type": "execute_result"
    }
   ],
   "source": [
    "file_exists = [os.path.isfile('himawari/' + f.replace('*', 'ext.01.fld.geoss')) for f in himawari_raw_files]\n",
    "all(file_exists)"
   ]
  },
  {
   "cell_type": "code",
   "execution_count": 27,
   "metadata": {
    "collapsed": true
   },
   "outputs": [],
   "source": [
    "import scipy.ndimage"
   ]
  },
  {
   "cell_type": "code",
   "execution_count": 33,
   "metadata": {},
   "outputs": [
    {
     "data": {
      "text/plain": [
       "((560, 1772), (4479, 14176))"
      ]
     },
     "execution_count": 33,
     "metadata": {},
     "output_type": "execute_result"
    }
   ],
   "source": [
    "# resize image using nearest neighbor (order 0)\n",
    "resized_nir = scipy.ndimage.zoom(nir_arr, 0.125, order=0)\n",
    "resized_nir.shape, nir_arr.shape"
   ]
  },
  {
   "cell_type": "code",
   "execution_count": 38,
   "metadata": {},
   "outputs": [],
   "source": [
    "ulx, xres, xskew, uly, yskew, yres = data.GetGeoTransform()\n",
    "lrx = ulx + (data.RasterXSize * xres)\n",
    "lry = uly + (data.RasterYSize * yres)\n",
    "modis_shape = resized_nir.shape\n",
    "matrix = np.zeros((modis_shape[0], modis_shape[1], 16))  # create the array"
   ]
  },
  {
   "cell_type": "code",
   "execution_count": null,
   "metadata": {
    "collapsed": true
   },
   "outputs": [],
   "source": [
    "for i, f in enumerate(himawari_files):\n",
    "    himawari_unwarped = gdal.Open(f, gdal.GA_ReadOnly)\n",
    "    # Do the needful\n",
    "    himawari_warped = 'hw.tif'\n",
    "    gdal.Warp(himawari_warped, himawari_unwarped, srcSRS='EPSG:4326', dstSRS='EPSG:3857')\n",
    "    himawari_cutout = output + '-test-2.tif'\n",
    "    gdal.Warp(himawari_cutout, himawari_warped, outputBoundsSRS='EPSG:3857', outputBounds=[ulx, lry, lrx, uly])\n",
    "    print \"Opening layer\", i\n",
    "    data = gdal.Open(himawari_cutout, gdal.GA_ReadOnly)\n",
    "    d = data.GetRasterBand(1).ReadAsArray()\n",
    "    print \"Done\"\n",
    "    print modis_shape, d.shape\n",
    "    data = d[:modis_shape[0], :modis_shape[1]]\n",
    "    print \"D.shape\", data.shape\n",
    "    print \"Data not null\", data[data > 0]\n",
    "    matrix[:, :, i] = data"
   ]
  }
 ],
 "metadata": {
  "kernelspec": {
   "display_name": "Python 2",
   "language": "python",
   "name": "python2"
  },
  "language_info": {
   "codemirror_mode": {
    "name": "ipython",
    "version": 2
   },
   "file_extension": ".py",
   "mimetype": "text/x-python",
   "name": "python",
   "nbconvert_exporter": "python",
   "pygments_lexer": "ipython2",
   "version": "2.7.12"
  }
 },
 "nbformat": 4,
 "nbformat_minor": 2
}
